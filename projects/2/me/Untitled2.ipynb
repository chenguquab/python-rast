{
 "cells": [
  {
   "cell_type": "code",
   "execution_count": 4,
   "id": "b5292ea0",
   "metadata": {},
   "outputs": [
    {
     "name": "stdout",
     "output_type": "stream",
     "text": [
      "Kerman\n",
      "Alborz\n",
      "Gilan\n",
      "Kerman\n",
      "Charmahal va Bakhtiari\n",
      "Kermanshah\n",
      "Khuzestan\n",
      "Lorestan\n",
      "Charmahal va Bakhtiari\n",
      "Fars\n",
      "Khorasan\n",
      "Lorestan\n",
      "Esfahan\n",
      "Esfahan\n",
      "Tehran\n",
      "Lorestan\n",
      "Mazandaran\n",
      "Esfahan\n",
      "Gilan\n",
      "Golsetan\n"
     ]
    }
   ],
   "source": [
    "import pandas\n",
    "import folium\n",
    "\n",
    "df = pandas.read_csv(\"waterfalls.txt\",sep=\",\")\n",
    "ir = folium.Map(location=[32, 53], zoom_start=5.4)\n",
    "\n",
    "details = df[[\"ID\",\"NAME\",\"STATE\",\"HEIGHT\",\"LATITUDE\",\"LONGITUDE\"]]\n",
    "for index,row in coordinates.iterrows():\n",
    "    print(row[\"STATE\"])"
   ]
  },
  {
   "cell_type": "code",
   "execution_count": null,
   "id": "af4346d6",
   "metadata": {},
   "outputs": [],
   "source": []
  }
 ],
 "metadata": {
  "kernelspec": {
   "display_name": "Python 3 (ipykernel)",
   "language": "python",
   "name": "python3"
  },
  "language_info": {
   "codemirror_mode": {
    "name": "ipython",
    "version": 3
   },
   "file_extension": ".py",
   "mimetype": "text/x-python",
   "name": "python",
   "nbconvert_exporter": "python",
   "pygments_lexer": "ipython3",
   "version": "3.8.0"
  }
 },
 "nbformat": 4,
 "nbformat_minor": 5
}
