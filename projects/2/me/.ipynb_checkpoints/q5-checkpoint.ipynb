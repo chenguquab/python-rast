{
 "cells": [
  {
   "cell_type": "code",
   "execution_count": null,
   "id": "68ac4451",
   "metadata": {},
   "outputs": [],
   "source": [
    "import pandas\n",
    "import folium\n",
    "\n",
    "df = pandas.read_csv(\"waterfalls.txt\",sep=\",\")\n",
    "ir = folium.Map(location=[32, 53], zoom_start=5.4)\n",
    "\n",
    "details = df[[\"ID\",\"NAME\",\"STATE\",\"HEIGHT\",\"LATITUDE\",\"LONGITUDE\"]]\n",
    "for index,row in details.iterrows():\n",
    "    info = \"<h5>\"+row[\"NAME\"]+\"</h5>\"\"<p> State: \"+row[\"STATE\"]+\"<br> Height: \"+str(row[\"HEIGHT\"])+\"</p>\"\n",
    "    color='blue'\n",
    "    if row[\"HEIGHT\"] <= 20:\n",
    "        color = \"green\"\n",
    "    elif 20 < row[\"HEIGHT\"] <= 50:\n",
    "        color = \"orange\"\n",
    "    else:\n",
    "        color = \"red\"\n",
    "    folium.Marker(\n",
    "    [row[\"LATITUDE\"], row[\"LONGITUDE\"]],popup=info,tooltip=row[\"NAME\"],icon=folium.Icon(color=color)).add_to(ir)\n",
    "ir"
   ]
  }
 ],
 "metadata": {
  "kernelspec": {
   "display_name": "Python 3 (ipykernel)",
   "language": "python",
   "name": "python3"
  },
  "language_info": {
   "codemirror_mode": {
    "name": "ipython",
    "version": 3
   },
   "file_extension": ".py",
   "mimetype": "text/x-python",
   "name": "python",
   "nbconvert_exporter": "python",
   "pygments_lexer": "ipython3",
   "version": "3.8.0"
  }
 },
 "nbformat": 4,
 "nbformat_minor": 5
}
